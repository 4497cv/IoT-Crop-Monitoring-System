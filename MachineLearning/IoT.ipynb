{
  "nbformat": 4,
  "nbformat_minor": 0,
  "metadata": {
    "colab": {
      "name": "IoT.ipynb",
      "provenance": [],
      "collapsed_sections": [],
      "toc_visible": true
    },
    "kernelspec": {
      "name": "python3",
      "display_name": "Python 3"
    },
    "accelerator": "GPU"
  },
  "cells": [
    {
      "cell_type": "markdown",
      "metadata": {
        "id": "ZjxlJSyHumL6",
        "colab_type": "text"
      },
      "source": [
        "#IoT Machine Learning"
      ]
    },
    {
      "cell_type": "markdown",
      "metadata": {
        "id": "WyJ3D3T-EJ7X",
        "colab_type": "text"
      },
      "source": [
        "###Imports"
      ]
    },
    {
      "cell_type": "code",
      "metadata": {
        "id": "uEvutXH9fYYb",
        "colab_type": "code",
        "outputId": "a41535ee-24a2-4799-ede1-55f594698fb1",
        "colab": {
          "base_uri": "https://localhost:8080/",
          "height": 105
        }
      },
      "source": [
        "import requests \n",
        "import pandas as pd\n",
        "import numpy as np\n",
        "from datetime import datetime\n",
        "import matplotlib.pyplot as plt\n",
        "import seaborn as sns\n",
        "from xgboost import XGBClassifier\n",
        "from sklearn.model_selection import train_test_split\n",
        "from sklearn.metrics import roc_curve, auc\n",
        "from xgboost import XGBRegressor    \n",
        "from sklearn.metrics import mean_squared_error \n",
        "from sklearn.linear_model import LinearRegression\n",
        "import sklearn.metrics as metrics\n",
        "from array import *\n",
        "from pandas import DataFrame\n",
        "\n",
        "\n",
        "%pylab inline"
      ],
      "execution_count": 0,
      "outputs": [
        {
          "output_type": "stream",
          "text": [
            "Populating the interactive namespace from numpy and matplotlib\n"
          ],
          "name": "stdout"
        },
        {
          "output_type": "stream",
          "text": [
            "/usr/local/lib/python3.6/dist-packages/IPython/core/magics/pylab.py:161: UserWarning: pylab import has clobbered these variables: ['array', 'typecodes', 'datetime']\n",
            "`%matplotlib` prevents importing * from pylab and numpy\n",
            "  \"\\n`%matplotlib` prevents importing * from pylab and numpy\"\n"
          ],
          "name": "stderr"
        }
      ]
    },
    {
      "cell_type": "markdown",
      "metadata": {
        "id": "j7eJ4Ln3rj_u",
        "colab_type": "text"
      },
      "source": [
        "###Funciones"
      ]
    },
    {
      "cell_type": "code",
      "metadata": {
        "id": "cWrqD1CNppMD",
        "colab_type": "code",
        "colab": {}
      },
      "source": [
        "def agregar_datos_fecha(df,col):\n",
        "    df[\"Dia_semanal\"] = df[col].dt.dayofweek  #Día de la semana Lunes = 0; Domingo = 6\n",
        "    df[\"Semana_anual\"] = df[col].dt.week      #Semanas del 1 al 52\n",
        "    df[\"Mes\"] = df[col].dt.month              #Mes del 1 al 12\n",
        "    df[\"Hora\"] = df[col].dt.hour              #Hora\n",
        "    df[\"Año\"] = df[col].dt.year               #Year\n",
        "    df[\"Dia\"] = df[col].dt.day                #Day\n",
        "    df[\"dia_del_año\"] = df[col].dt.dayofyear  #Day of year\n",
        "    #df[\"Minuto\"] = df[col].dt.minute  \n",
        "    return df"
      ],
      "execution_count": 0,
      "outputs": []
    },
    {
      "cell_type": "markdown",
      "metadata": {
        "id": "5BqN5K3Tuv8b",
        "colab_type": "text"
      },
      "source": [
        "###Get token\n"
      ]
    },
    {
      "cell_type": "code",
      "metadata": {
        "id": "YiNfb_1rtFSm",
        "colab_type": "code",
        "outputId": "5e4d2df4-7953-4ba7-e8d1-b6ad7d99b824",
        "colab": {
          "base_uri": "https://localhost:8080/",
          "height": 34
        }
      },
      "source": [
        "# api-endpoint \n",
        "URLToken = \"https://industrial.api.ubidots.com/api/v1.6/auth/token/\"\n",
        "  \n",
        "# APIKey given here \n",
        "ubidotsAPIKey = \"BBFF-e9e7fa61f82ed6528bc5a5d6e95584b5e55\"\n",
        "  \n",
        "# defining a params dict for the parameters to be sent to the API \n",
        "HEADERS = {'x-ubidots-apikey':ubidotsAPIKey} \n",
        "  \n",
        "# sending get request and saving the response as response object \n",
        "r = requests.post(url = URLToken, headers = HEADERS) \n",
        "  \n",
        "# extracting data in json format \n",
        "token = r.json() \n",
        "token = token['token']\n",
        "print(token)"
      ],
      "execution_count": 0,
      "outputs": [
        {
          "output_type": "stream",
          "text": [
            "BBFF-zAGOxor3DWy4GXPOxJbPZlzwUP7GmBf7fsyfqWrRNQyeE0JzhrKhdUT\n"
          ],
          "name": "stdout"
        }
      ]
    },
    {
      "cell_type": "markdown",
      "metadata": {
        "id": "mJk-3G7iPElw",
        "colab_type": "text"
      },
      "source": [
        "##Get Data"
      ]
    },
    {
      "cell_type": "markdown",
      "metadata": {
        "id": "i7a67-AYu164",
        "colab_type": "text"
      },
      "source": [
        "###Get soil data"
      ]
    },
    {
      "cell_type": "code",
      "metadata": {
        "id": "qiidikMOApzD",
        "colab_type": "code",
        "outputId": "1c2a6a95-0790-430a-88c5-518f5eeb59da",
        "colab": {
          "base_uri": "https://localhost:8080/",
          "height": 595
        }
      },
      "source": [
        "HEADERS = {'X-Auth-Token':token} \n",
        "URLSoil = \"https://industrial.api.ubidots.com/api/v1.6/variables/5eada9170ff4c3688aed9488/values/?page=\"\n",
        "URLSoil1 = \"https://industrial.api.ubidots.com/api/v1.6/variables/5eada9170ff4c3688aed9488/values/\"\n",
        "\n",
        "dfSoilPart2 =[]\n",
        "\n",
        "# sending get request and saving the response as response object \n",
        "reqSoil1 = requests.get(url = URLSoil1, headers = HEADERS) \n",
        "\n",
        "# extracting data in json format \n",
        "soilData1 = reqSoil1.json() \n",
        "\n",
        "#print(soilData['results'],['value'])\n",
        "dfSoilPart  = pd.DataFrame.from_dict(soilData1['results'], orient='columns')\n",
        "\n",
        "for i in range(2,22):\n",
        "  x = URLSoil + str(i) \n",
        "  reqSoil = requests.get(url = x, headers = HEADERS) \n",
        "  soilData = reqSoil.json() \n",
        "  dfSoilPart2.append( pd.DataFrame.from_dict(soilData['results'], orient='columns') )\n",
        "\n",
        "  print(i)\n",
        "\n",
        "\n",
        "\n",
        "dfSoil = pd.concat( [dfSoilPart, dfSoilPart2[0], dfSoilPart2[1],dfSoilPart2[2],dfSoilPart2[3],\n",
        "                     dfSoilPart2[4],dfSoilPart2[5],dfSoilPart2[6],dfSoilPart2[7],dfSoilPart2[8],\n",
        "                     dfSoilPart2[9],dfSoilPart2[10],dfSoilPart2[11],dfSoilPart2[12],dfSoilPart2[13],\n",
        "                     dfSoilPart2[14],dfSoilPart2[15],dfSoilPart2[16],dfSoilPart2[17],dfSoilPart2[18],\n",
        "                      dfSoilPart2[19]])\n",
        "print(dfSoil)\n"
      ],
      "execution_count": 0,
      "outputs": [
        {
          "output_type": "stream",
          "text": [
            "2\n",
            "3\n",
            "4\n",
            "5\n",
            "6\n",
            "7\n",
            "8\n",
            "9\n",
            "10\n",
            "11\n",
            "12\n",
            "13\n",
            "14\n",
            "15\n",
            "16\n",
            "17\n",
            "18\n",
            "19\n",
            "20\n",
            "21\n",
            "        timestamp  value context     created_at\n",
            "0   1589188316099  84.94      {}  1589188316166\n",
            "1   1589188234812  84.94      {}  1589188234969\n",
            "2   1589188072030  84.94      {}  1589188072125\n",
            "3   1589187990316  84.94      {}  1589187990388\n",
            "4   1589187908957  84.94      {}  1589187910801\n",
            "..            ...    ...     ...            ...\n",
            "95  1588791163388  89.14      {}  1588791163451\n",
            "96  1588791153385  89.14      {}  1588791153463\n",
            "97  1588791143373  89.14      {}  1588791143537\n",
            "98  1588791133460  89.14      {}  1588791133547\n",
            "99  1588791123358  89.14      {}  1588791123483\n",
            "\n",
            "[2100 rows x 4 columns]\n"
          ],
          "name": "stdout"
        }
      ]
    },
    {
      "cell_type": "code",
      "metadata": {
        "id": "HsjCcDH6QayU",
        "colab_type": "code",
        "outputId": "9c56851e-f3d2-41b1-d9b6-54c7f5b44587",
        "colab": {
          "base_uri": "https://localhost:8080/",
          "height": 54
        }
      },
      "source": [
        "print(soilData1)"
      ],
      "execution_count": 0,
      "outputs": [
        {
          "output_type": "stream",
          "text": [
            "{'count': True, 'next': 'https://industrial.api.ubidots.com/api/v1.6/variables/5eada9170ff4c3688aed9488/values/?page=2', 'previous': None, 'results': [{'timestamp': 1589188316099, 'value': 84.94, 'context': {}, 'created_at': 1589188316166}, {'timestamp': 1589188234812, 'value': 84.94, 'context': {}, 'created_at': 1589188234969}, {'timestamp': 1589188072030, 'value': 84.94, 'context': {}, 'created_at': 1589188072125}, {'timestamp': 1589187990316, 'value': 84.94, 'context': {}, 'created_at': 1589187990388}, {'timestamp': 1589187908957, 'value': 84.94, 'context': {}, 'created_at': 1589187910801}, {'timestamp': 1589187827665, 'value': 84.94, 'context': {}, 'created_at': 1589187827835}, {'timestamp': 1589187746308, 'value': 84.94, 'context': {}, 'created_at': 1589187746358}, {'timestamp': 1589187665010, 'value': 84.94, 'context': {}, 'created_at': 1589187665119}, {'timestamp': 1589187569750, 'value': 84.94, 'context': {}, 'created_at': 1589187569799}, {'timestamp': 1589187488455, 'value': 84.94, 'context': {}, 'created_at': 1589187488504}, {'timestamp': 1589187404151, 'value': 84.94, 'context': {}, 'created_at': 1589187404274}, {'timestamp': 1589187322706, 'value': 84.94, 'context': {}, 'created_at': 1589187322776}, {'timestamp': 1589187241433, 'value': 84.94, 'context': {}, 'created_at': 1589187241496}, {'timestamp': 1589187160096, 'value': 84.94, 'context': {}, 'created_at': 1589187160257}, {'timestamp': 1589187078838, 'value': 84.94, 'context': {}, 'created_at': 1589187078890}, {'timestamp': 1589186997518, 'value': 84.94, 'context': {}, 'created_at': 1589186997606}, {'timestamp': 1589186916230, 'value': 84.94, 'context': {}, 'created_at': 1589186916357}, {'timestamp': 1589186834941, 'value': 84.94, 'context': {}, 'created_at': 1589186834997}, {'timestamp': 1589186753632, 'value': 84.94, 'context': {}, 'created_at': 1589186753701}, {'timestamp': 1589186672187, 'value': 84.94, 'context': {}, 'created_at': 1589186672248}, {'timestamp': 1589186590812, 'value': 84.94, 'context': {}, 'created_at': 1589186590895}, {'timestamp': 1589186510696, 'value': 84.94, 'context': {}, 'created_at': 1589186511782}, {'timestamp': 1589186427986, 'value': 84.94, 'context': {}, 'created_at': 1589186428140}, {'timestamp': 1589186346566, 'value': 84.94, 'context': {}, 'created_at': 1589186346627}, {'timestamp': 1589186265266, 'value': 84.94, 'context': {}, 'created_at': 1589186265337}, {'timestamp': 1589186183978, 'value': 84.94, 'context': {}, 'created_at': 1589186184058}, {'timestamp': 1589186102655, 'value': 84.94, 'context': {}, 'created_at': 1589186102793}, {'timestamp': 1589186021225, 'value': 84.94, 'context': {}, 'created_at': 1589186021334}, {'timestamp': 1589185939942, 'value': 84.94, 'context': {}, 'created_at': 1589185939996}, {'timestamp': 1589185858640, 'value': 84.94, 'context': {}, 'created_at': 1589185858724}, {'timestamp': 1589185777341, 'value': 84.94, 'context': {}, 'created_at': 1589185777397}, {'timestamp': 1589185695912, 'value': 84.94, 'context': {}, 'created_at': 1589185695981}, {'timestamp': 1589185614619, 'value': 84.94, 'context': {}, 'created_at': 1589185614679}, {'timestamp': 1589185533278, 'value': 84.94, 'context': {}, 'created_at': 1589185533343}, {'timestamp': 1589185451990, 'value': 84.94, 'context': {}, 'created_at': 1589185452060}, {'timestamp': 1589185370562, 'value': 84.94, 'context': {}, 'created_at': 1589185370739}, {'timestamp': 1589185289248, 'value': 84.94, 'context': {}, 'created_at': 1589185289337}, {'timestamp': 1589185207950, 'value': 84.94, 'context': {}, 'created_at': 1589185208095}, {'timestamp': 1589185126667, 'value': 84.94, 'context': {}, 'created_at': 1589185126730}, {'timestamp': 1589185045378, 'value': 84.94, 'context': {}, 'created_at': 1589185045422}, {'timestamp': 1589184964083, 'value': 84.94, 'context': {}, 'created_at': 1589184964183}, {'timestamp': 1589184882788, 'value': 84.94, 'context': {}, 'created_at': 1589184882858}, {'timestamp': 1589184801498, 'value': 84.94, 'context': {}, 'created_at': 1589184801678}, {'timestamp': 1589184720063, 'value': 84.94, 'context': {}, 'created_at': 1589184720162}, {'timestamp': 1589184638766, 'value': 84.94, 'context': {}, 'created_at': 1589184638823}, {'timestamp': 1589184557501, 'value': 84.94, 'context': {}, 'created_at': 1589184557554}, {'timestamp': 1589184476196, 'value': 84.94, 'context': {}, 'created_at': 1589184476276}, {'timestamp': 1589184394930, 'value': 84.94, 'context': {}, 'created_at': 1589184394990}, {'timestamp': 1589184313599, 'value': 84.94, 'context': {}, 'created_at': 1589184313710}, {'timestamp': 1589184232316, 'value': 84.94, 'context': {}, 'created_at': 1589184232396}, {'timestamp': 1589184151019, 'value': 84.94, 'context': {}, 'created_at': 1589184151098}, {'timestamp': 1589184069595, 'value': 84.94, 'context': {}, 'created_at': 1589184069777}, {'timestamp': 1589183987079, 'value': 84.94, 'context': {}, 'created_at': 1589183987175}, {'timestamp': 1589183905803, 'value': 84.94, 'context': {}, 'created_at': 1589183905904}, {'timestamp': 1589183824505, 'value': 85.19, 'context': {}, 'created_at': 1589183824579}, {'timestamp': 1589183743220, 'value': 84.94, 'context': {}, 'created_at': 1589183743289}, {'timestamp': 1589183661916, 'value': 84.94, 'context': {}, 'created_at': 1589183661960}, {'timestamp': 1589183580615, 'value': 84.94, 'context': {}, 'created_at': 1589183580664}, {'timestamp': 1589183499348, 'value': 84.94, 'context': {}, 'created_at': 1589183499481}, {'timestamp': 1589183417908, 'value': 84.94, 'context': {}, 'created_at': 1589183418055}, {'timestamp': 1589183336636, 'value': 84.94, 'context': {}, 'created_at': 1589183336684}, {'timestamp': 1589183255044, 'value': 84.94, 'context': {}, 'created_at': 1589183255109}, {'timestamp': 1589183172804, 'value': 84.94, 'context': {}, 'created_at': 1589183172894}, {'timestamp': 1589183091525, 'value': 84.94, 'context': {}, 'created_at': 1589183091634}, {'timestamp': 1589183010252, 'value': 84.94, 'context': {}, 'created_at': 1589183010364}, {'timestamp': 1589182881449, 'value': 89.14, 'context': {}, 'created_at': 1589182881519}, {'timestamp': 1589182799194, 'value': 85.43, 'context': {}, 'created_at': 1589182799290}, {'timestamp': 1589182717914, 'value': 85.43, 'context': {}, 'created_at': 1589182717962}, {'timestamp': 1589182636637, 'value': 85.43, 'context': {}, 'created_at': 1589182636693}, {'timestamp': 1589182555349, 'value': 85.43, 'context': {}, 'created_at': 1589182555441}, {'timestamp': 1589182474032, 'value': 85.43, 'context': {}, 'created_at': 1589182474132}, {'timestamp': 1589182404938, 'value': 84.44, 'context': {}, 'created_at': 1589182404999}, {'timestamp': 1589182323654, 'value': 84.69, 'context': {}, 'created_at': 1589182323796}, {'timestamp': 1589182242368, 'value': 84.44, 'context': {}, 'created_at': 1589182242418}, {'timestamp': 1589182160940, 'value': 84.44, 'context': {}, 'created_at': 1589182161076}, {'timestamp': 1589182080796, 'value': 84.44, 'context': {}, 'created_at': 1589182080905}, {'timestamp': 1589181964078, 'value': 84.94, 'context': {}, 'created_at': 1589181964143}, {'timestamp': 1589181882771, 'value': 84.94, 'context': {}, 'created_at': 1589181882855}, {'timestamp': 1589181801442, 'value': 84.94, 'context': {}, 'created_at': 1589181801489}, {'timestamp': 1589181720253, 'value': 84.94, 'context': {}, 'created_at': 1589181720387}, {'timestamp': 1589181638883, 'value': 84.94, 'context': {}, 'created_at': 1589181638994}, {'timestamp': 1589181557472, 'value': 84.69, 'context': {}, 'created_at': 1589181557556}, {'timestamp': 1589181476178, 'value': 84.94, 'context': {}, 'created_at': 1589181476236}, {'timestamp': 1589181394659, 'value': 84.94, 'context': {}, 'created_at': 1589181394701}, {'timestamp': 1589181313373, 'value': 84.94, 'context': {}, 'created_at': 1589181313438}, {'timestamp': 1589181232100, 'value': 84.69, 'context': {}, 'created_at': 1589181232214}, {'timestamp': 1589181150831, 'value': 84.44, 'context': {}, 'created_at': 1589181150882}, {'timestamp': 1589181069340, 'value': 84.69, 'context': {}, 'created_at': 1589181069525}, {'timestamp': 1589180988019, 'value': 84.44, 'context': {}, 'created_at': 1589180988075}, {'timestamp': 1589180906546, 'value': 84.69, 'context': {}, 'created_at': 1589180906637}, {'timestamp': 1589180825263, 'value': 84.44, 'context': {}, 'created_at': 1589180825336}, {'timestamp': 1589180744042, 'value': 84.2, 'context': {}, 'created_at': 1589180744119}, {'timestamp': 1589180662690, 'value': 84.44, 'context': {}, 'created_at': 1589180662767}, {'timestamp': 1589180581342, 'value': 84.2, 'context': {}, 'created_at': 1589180581408}, {'timestamp': 1589180499942, 'value': 84.2, 'context': {}, 'created_at': 1589180500055}, {'timestamp': 1589180418644, 'value': 84.2, 'context': {}, 'created_at': 1589180419267}, {'timestamp': 1589180337352, 'value': 84.2, 'context': {}, 'created_at': 1589180337417}, {'timestamp': 1589180254073, 'value': 83.7, 'context': {}, 'created_at': 1589180254145}, {'timestamp': 1589180172780, 'value': 83.7, 'context': {}, 'created_at': 1589180172846}, {'timestamp': 1589180091507, 'value': 83.7, 'context': {}, 'created_at': 1589180091667}]}\n"
          ],
          "name": "stdout"
        }
      ]
    },
    {
      "cell_type": "markdown",
      "metadata": {
        "id": "ma9Wo2Flu7wk",
        "colab_type": "text"
      },
      "source": [
        "###Get light data"
      ]
    },
    {
      "cell_type": "code",
      "metadata": {
        "id": "2FhrSpQFdHCa",
        "colab_type": "code",
        "outputId": "3c3de05f-632e-47b2-b728-dff1c1633e58",
        "colab": {
          "base_uri": "https://localhost:8080/",
          "height": 595
        }
      },
      "source": [
        "HEADERS = {'X-Auth-Token':token} \n",
        "URLlight = \"https://industrial.api.ubidots.com/api/v1.6/variables/5eada8dc4763e77868862efa/values/?page=\"\n",
        "URLlight1 = \"https://industrial.api.ubidots.com/api/v1.6/variables/5eada8dc4763e77868862efa/values/\"\n",
        "dfLightPart2 =[]\n",
        "\n",
        "# sending get request and saving the response as response object \n",
        "reqLight1 = requests.get(url = URLlight1, headers = HEADERS) \n",
        "\n",
        "# extracting data in json format \n",
        "lightData1 = reqLight1.json() \n",
        "\n",
        "dfLightPart  = pd.DataFrame.from_dict(lightData1['results'], orient='columns')\n",
        "\n",
        "for i in range(2,22):\n",
        "  x = URLlight + str(i) \n",
        "  reqLight = requests.get(url = x, headers = HEADERS) \n",
        "  lightData = reqLight.json() \n",
        "  dfLightPart2.append( pd.DataFrame.from_dict(lightData['results'], orient='columns') )\n",
        "\n",
        "  print(i)\n",
        "\n",
        "dfLight = pd.concat( [dfLightPart, dfLightPart2[0], dfLightPart2[1],dfLightPart2[2],dfLightPart2[3],\n",
        "                     dfLightPart2[4],dfLightPart2[5],dfLightPart2[6],dfLightPart2[7],dfLightPart2[8],\n",
        "                     dfLightPart2[9],dfLightPart2[10],dfLightPart2[11],dfLightPart2[12],dfLightPart2[13],\n",
        "                     dfLightPart2[14],dfLightPart2[15],dfLightPart2[16],dfLightPart2[17],dfLightPart2[18],\n",
        "                      dfLightPart2[19]])\n",
        "print(dfLight)\n"
      ],
      "execution_count": 0,
      "outputs": [
        {
          "output_type": "stream",
          "text": [
            "2\n",
            "3\n",
            "4\n",
            "5\n",
            "6\n",
            "7\n",
            "8\n",
            "9\n",
            "10\n",
            "11\n",
            "12\n",
            "13\n",
            "14\n",
            "15\n",
            "16\n",
            "17\n",
            "18\n",
            "19\n",
            "20\n",
            "21\n",
            "        timestamp   value context     created_at\n",
            "0   1589188295597    2.93      {}  1589188295644\n",
            "1   1589188214304   60.35      {}  1589188214373\n",
            "2   1589188132748   99.71      {}  1589188132813\n",
            "3   1589188051427   99.41      {}  1589188051468\n",
            "4   1589187969771   99.41      {}  1589187969924\n",
            "..            ...     ...     ...            ...\n",
            "95  1588804350666  100.00      {}  1588804350734\n",
            "96  1588804258826  100.00      {}  1588804258924\n",
            "97  1588804166950  100.00      {}  1588804167072\n",
            "98  1588804075101  100.00      {}  1588804075185\n",
            "99  1588803983274  100.00      {}  1588803983329\n",
            "\n",
            "[2100 rows x 4 columns]\n"
          ],
          "name": "stdout"
        }
      ]
    },
    {
      "cell_type": "markdown",
      "metadata": {
        "id": "Y5cjCp5Ju6ld",
        "colab_type": "text"
      },
      "source": [
        "###Get temp data"
      ]
    },
    {
      "cell_type": "code",
      "metadata": {
        "id": "t1C5xSdYfgPV",
        "colab_type": "code",
        "outputId": "4f3d86f0-607b-4a76-d3ad-dc5c16e871e4",
        "colab": {
          "base_uri": "https://localhost:8080/",
          "height": 595
        }
      },
      "source": [
        "HEADERS = {'X-Auth-Token':token} \n",
        "URLTemp1 =  \"https://industrial.api.ubidots.com/api/v1.6/variables/5eb3075673efc3075d2c338d/values/\"\n",
        "URLTemp =  \"https://industrial.api.ubidots.com/api/v1.6/variables/5eb3075673efc3075d2c338d/values/?page=\"\n",
        "\n",
        "dfTempPart2 =[]\n",
        "\n",
        "# sending get request and saving the response as response object \n",
        "reqTemp1 = requests.get(url = URLTemp1, headers = HEADERS) \n",
        "\n",
        "# extracting data in json format \n",
        "tempData1 = reqTemp1.json() \n",
        "\n",
        "dfTempPart  = pd.DataFrame.from_dict(tempData1['results'], orient='columns')\n",
        "\n",
        "for i in range(2,22):\n",
        "  x = URLTemp + str(i) \n",
        "  reqTemp = requests.get(url = x, headers = HEADERS) \n",
        "  tempData = reqTemp.json() \n",
        "  dfTempPart2.append( pd.DataFrame.from_dict(tempData['results'], orient='columns') )\n",
        "\n",
        "  print(i)\n",
        "\n",
        "dfTemp = pd.concat( [dfTempPart, dfTempPart2[0], dfTempPart2[1],dfTempPart2[2],dfTempPart2[3],\n",
        "                     dfTempPart2[4],dfTempPart2[5],dfTempPart2[6],dfTempPart2[7],dfTempPart2[8],\n",
        "                     dfTempPart2[9],dfTempPart2[10],dfTempPart2[11],dfTempPart2[12],dfTempPart2[13],\n",
        "                     dfTempPart2[14],dfTempPart2[15],dfTempPart2[16],dfTempPart2[17],dfTempPart2[18],\n",
        "                      dfTempPart2[19]])\n",
        "print(dfTemp)\n"
      ],
      "execution_count": 0,
      "outputs": [
        {
          "output_type": "stream",
          "text": [
            "2\n",
            "3\n",
            "4\n",
            "5\n",
            "6\n",
            "7\n",
            "8\n",
            "9\n",
            "10\n",
            "11\n",
            "12\n",
            "13\n",
            "14\n",
            "15\n",
            "16\n",
            "17\n",
            "18\n",
            "19\n",
            "20\n",
            "21\n",
            "        timestamp  value context     created_at\n",
            "0   1589188275091  27.59      {}  1589188275180\n",
            "1   1589188193668  27.76      {}  1589188193743\n",
            "2   1589188112244  27.73      {}  1589188112353\n",
            "3   1589188031817  27.59      {}  1589188031910\n",
            "4   1589187949274  27.59      {}  1589187949426\n",
            "..            ...    ...     ...            ...\n",
            "11  1588791166388  33.03      {}  1588791166458\n",
            "12  1588791156489  33.00      {}  1588791156559\n",
            "13  1588791146374  33.00      {}  1588791146463\n",
            "14  1588791136759  33.00      {}  1588791136852\n",
            "15  1588791126358  33.00      {}  1588791126442\n",
            "\n",
            "[1716 rows x 4 columns]\n"
          ],
          "name": "stdout"
        }
      ]
    },
    {
      "cell_type": "markdown",
      "metadata": {
        "id": "g7G3JgIZjeZZ",
        "colab_type": "text"
      },
      "source": [
        "###Get datetime"
      ]
    },
    {
      "cell_type": "code",
      "metadata": {
        "id": "rnKTq7dojmEX",
        "colab_type": "code",
        "colab": {}
      },
      "source": [
        "dfSoil['timestamp'] = dfSoil['timestamp'].astype(str).str[:-3].astype(np.int64)\n",
        "dfTemp['timestamp'] = dfTemp['timestamp'].astype(str).str[:-3].astype(np.int64)\n",
        "dfLight['timestamp'] = dfLight['timestamp'].astype(str).str[:-3].astype(np.int64)\n",
        "\n",
        "dfSoil['timestamp'] = dfSoil['timestamp'] - 24*60*60 *2\n",
        "dfTemp['timestamp'] = dfTemp['timestamp'] - 24*60*60 *2\n",
        "dfLight['timestamp'] = dfLight['timestamp'] - 24*60*60 *2\n",
        "\n"
      ],
      "execution_count": 0,
      "outputs": []
    },
    {
      "cell_type": "code",
      "metadata": {
        "id": "JZ__xR0WAsfu",
        "colab_type": "code",
        "colab": {}
      },
      "source": [
        "dfSoil['date'] = pd.to_datetime(dfSoil['timestamp'], unit='s')\n",
        "dfSoil = agregar_datos_fecha(dfSoil,'date')\n",
        "\n",
        "dfTemp['date'] = pd.to_datetime(dfTemp['timestamp'], unit='s')\n",
        "dfTemp = agregar_datos_fecha(dfTemp,'date')\n",
        "\n",
        "dfLight['date'] = pd.to_datetime(dfLight['timestamp'], unit='s')\n",
        "dfLight = agregar_datos_fecha(dfLight,'date')\n"
      ],
      "execution_count": 0,
      "outputs": []
    },
    {
      "cell_type": "code",
      "metadata": {
        "id": "fmY9Aj3omdqa",
        "colab_type": "code",
        "outputId": "49e36ce9-8d6c-4b28-a00d-81b4087d5e23",
        "colab": {
          "base_uri": "https://localhost:8080/",
          "height": 1000
        }
      },
      "source": [
        "tsS1 =  dfSoil['timestamp'].iloc[0]\n",
        "tsT1 =  dfTemp['timestamp'].iloc[0]\n",
        "tsL1 =  dfLight['timestamp'].iloc[0]\n",
        "\n",
        "tsS2 = tsS1 + 3600\n",
        "tsT2 = tsT1 + 3600\n",
        "tsL2 = tsL1 + 3600\n",
        "\n",
        "tsSoil = {'timestamp': [tsS2] }\n",
        "tsTemp = {'timestamp': [tsT2] }\n",
        "tsLight = {'timestamp': [tsL2] }\n",
        "\n",
        "for i in range(2, 25):\n",
        "  tsSoil['timestamp'].append( tsS1 + (3600 * i) ) \n",
        "  tsTemp['timestamp'].append( tsT2 + (3600 * i) ) \n",
        "  tsLight['timestamp'].append( tsL2 + (3600 * i) ) \n",
        "\n",
        "tsSoil = pd.DataFrame(tsSoil)\n",
        "tsTemp = pd.DataFrame(tsTemp)\n",
        "tsLight = pd.DataFrame(tsLight)\n",
        "\n",
        "tsSoil['date'] = pd.to_datetime(tsSoil['timestamp'], unit='s')\n",
        "tsTemp['date'] = pd.to_datetime(tsTemp['timestamp'], unit='s')\n",
        "tsLight['date'] = pd.to_datetime(tsLight['timestamp'], unit='s')\n",
        "\n",
        "tsSoil = agregar_datos_fecha(tsSoil,'date')\n",
        "tsTemp = agregar_datos_fecha(tsTemp,'date')\n",
        "tsLight = agregar_datos_fecha(tsLight,'date')\n",
        "\n",
        "tsSoil"
      ],
      "execution_count": 0,
      "outputs": [
        {
          "output_type": "execute_result",
          "data": {
            "text/html": [
              "<div>\n",
              "<style scoped>\n",
              "    .dataframe tbody tr th:only-of-type {\n",
              "        vertical-align: middle;\n",
              "    }\n",
              "\n",
              "    .dataframe tbody tr th {\n",
              "        vertical-align: top;\n",
              "    }\n",
              "\n",
              "    .dataframe thead th {\n",
              "        text-align: right;\n",
              "    }\n",
              "</style>\n",
              "<table border=\"1\" class=\"dataframe\">\n",
              "  <thead>\n",
              "    <tr style=\"text-align: right;\">\n",
              "      <th></th>\n",
              "      <th>timestamp</th>\n",
              "      <th>date</th>\n",
              "      <th>Dia_semanal</th>\n",
              "      <th>Semana_anual</th>\n",
              "      <th>Mes</th>\n",
              "      <th>Hora</th>\n",
              "      <th>Año</th>\n",
              "      <th>Dia</th>\n",
              "      <th>dia_del_año</th>\n",
              "    </tr>\n",
              "  </thead>\n",
              "  <tbody>\n",
              "    <tr>\n",
              "      <th>0</th>\n",
              "      <td>1589019116</td>\n",
              "      <td>2020-05-09 10:11:56</td>\n",
              "      <td>5</td>\n",
              "      <td>19</td>\n",
              "      <td>5</td>\n",
              "      <td>10</td>\n",
              "      <td>2020</td>\n",
              "      <td>9</td>\n",
              "      <td>130</td>\n",
              "    </tr>\n",
              "    <tr>\n",
              "      <th>1</th>\n",
              "      <td>1589022716</td>\n",
              "      <td>2020-05-09 11:11:56</td>\n",
              "      <td>5</td>\n",
              "      <td>19</td>\n",
              "      <td>5</td>\n",
              "      <td>11</td>\n",
              "      <td>2020</td>\n",
              "      <td>9</td>\n",
              "      <td>130</td>\n",
              "    </tr>\n",
              "    <tr>\n",
              "      <th>2</th>\n",
              "      <td>1589026316</td>\n",
              "      <td>2020-05-09 12:11:56</td>\n",
              "      <td>5</td>\n",
              "      <td>19</td>\n",
              "      <td>5</td>\n",
              "      <td>12</td>\n",
              "      <td>2020</td>\n",
              "      <td>9</td>\n",
              "      <td>130</td>\n",
              "    </tr>\n",
              "    <tr>\n",
              "      <th>3</th>\n",
              "      <td>1589029916</td>\n",
              "      <td>2020-05-09 13:11:56</td>\n",
              "      <td>5</td>\n",
              "      <td>19</td>\n",
              "      <td>5</td>\n",
              "      <td>13</td>\n",
              "      <td>2020</td>\n",
              "      <td>9</td>\n",
              "      <td>130</td>\n",
              "    </tr>\n",
              "    <tr>\n",
              "      <th>4</th>\n",
              "      <td>1589033516</td>\n",
              "      <td>2020-05-09 14:11:56</td>\n",
              "      <td>5</td>\n",
              "      <td>19</td>\n",
              "      <td>5</td>\n",
              "      <td>14</td>\n",
              "      <td>2020</td>\n",
              "      <td>9</td>\n",
              "      <td>130</td>\n",
              "    </tr>\n",
              "    <tr>\n",
              "      <th>5</th>\n",
              "      <td>1589037116</td>\n",
              "      <td>2020-05-09 15:11:56</td>\n",
              "      <td>5</td>\n",
              "      <td>19</td>\n",
              "      <td>5</td>\n",
              "      <td>15</td>\n",
              "      <td>2020</td>\n",
              "      <td>9</td>\n",
              "      <td>130</td>\n",
              "    </tr>\n",
              "    <tr>\n",
              "      <th>6</th>\n",
              "      <td>1589040716</td>\n",
              "      <td>2020-05-09 16:11:56</td>\n",
              "      <td>5</td>\n",
              "      <td>19</td>\n",
              "      <td>5</td>\n",
              "      <td>16</td>\n",
              "      <td>2020</td>\n",
              "      <td>9</td>\n",
              "      <td>130</td>\n",
              "    </tr>\n",
              "    <tr>\n",
              "      <th>7</th>\n",
              "      <td>1589044316</td>\n",
              "      <td>2020-05-09 17:11:56</td>\n",
              "      <td>5</td>\n",
              "      <td>19</td>\n",
              "      <td>5</td>\n",
              "      <td>17</td>\n",
              "      <td>2020</td>\n",
              "      <td>9</td>\n",
              "      <td>130</td>\n",
              "    </tr>\n",
              "    <tr>\n",
              "      <th>8</th>\n",
              "      <td>1589047916</td>\n",
              "      <td>2020-05-09 18:11:56</td>\n",
              "      <td>5</td>\n",
              "      <td>19</td>\n",
              "      <td>5</td>\n",
              "      <td>18</td>\n",
              "      <td>2020</td>\n",
              "      <td>9</td>\n",
              "      <td>130</td>\n",
              "    </tr>\n",
              "    <tr>\n",
              "      <th>9</th>\n",
              "      <td>1589051516</td>\n",
              "      <td>2020-05-09 19:11:56</td>\n",
              "      <td>5</td>\n",
              "      <td>19</td>\n",
              "      <td>5</td>\n",
              "      <td>19</td>\n",
              "      <td>2020</td>\n",
              "      <td>9</td>\n",
              "      <td>130</td>\n",
              "    </tr>\n",
              "    <tr>\n",
              "      <th>10</th>\n",
              "      <td>1589055116</td>\n",
              "      <td>2020-05-09 20:11:56</td>\n",
              "      <td>5</td>\n",
              "      <td>19</td>\n",
              "      <td>5</td>\n",
              "      <td>20</td>\n",
              "      <td>2020</td>\n",
              "      <td>9</td>\n",
              "      <td>130</td>\n",
              "    </tr>\n",
              "    <tr>\n",
              "      <th>11</th>\n",
              "      <td>1589058716</td>\n",
              "      <td>2020-05-09 21:11:56</td>\n",
              "      <td>5</td>\n",
              "      <td>19</td>\n",
              "      <td>5</td>\n",
              "      <td>21</td>\n",
              "      <td>2020</td>\n",
              "      <td>9</td>\n",
              "      <td>130</td>\n",
              "    </tr>\n",
              "    <tr>\n",
              "      <th>12</th>\n",
              "      <td>1589062316</td>\n",
              "      <td>2020-05-09 22:11:56</td>\n",
              "      <td>5</td>\n",
              "      <td>19</td>\n",
              "      <td>5</td>\n",
              "      <td>22</td>\n",
              "      <td>2020</td>\n",
              "      <td>9</td>\n",
              "      <td>130</td>\n",
              "    </tr>\n",
              "    <tr>\n",
              "      <th>13</th>\n",
              "      <td>1589065916</td>\n",
              "      <td>2020-05-09 23:11:56</td>\n",
              "      <td>5</td>\n",
              "      <td>19</td>\n",
              "      <td>5</td>\n",
              "      <td>23</td>\n",
              "      <td>2020</td>\n",
              "      <td>9</td>\n",
              "      <td>130</td>\n",
              "    </tr>\n",
              "    <tr>\n",
              "      <th>14</th>\n",
              "      <td>1589069516</td>\n",
              "      <td>2020-05-10 00:11:56</td>\n",
              "      <td>6</td>\n",
              "      <td>19</td>\n",
              "      <td>5</td>\n",
              "      <td>0</td>\n",
              "      <td>2020</td>\n",
              "      <td>10</td>\n",
              "      <td>131</td>\n",
              "    </tr>\n",
              "    <tr>\n",
              "      <th>15</th>\n",
              "      <td>1589073116</td>\n",
              "      <td>2020-05-10 01:11:56</td>\n",
              "      <td>6</td>\n",
              "      <td>19</td>\n",
              "      <td>5</td>\n",
              "      <td>1</td>\n",
              "      <td>2020</td>\n",
              "      <td>10</td>\n",
              "      <td>131</td>\n",
              "    </tr>\n",
              "    <tr>\n",
              "      <th>16</th>\n",
              "      <td>1589076716</td>\n",
              "      <td>2020-05-10 02:11:56</td>\n",
              "      <td>6</td>\n",
              "      <td>19</td>\n",
              "      <td>5</td>\n",
              "      <td>2</td>\n",
              "      <td>2020</td>\n",
              "      <td>10</td>\n",
              "      <td>131</td>\n",
              "    </tr>\n",
              "    <tr>\n",
              "      <th>17</th>\n",
              "      <td>1589080316</td>\n",
              "      <td>2020-05-10 03:11:56</td>\n",
              "      <td>6</td>\n",
              "      <td>19</td>\n",
              "      <td>5</td>\n",
              "      <td>3</td>\n",
              "      <td>2020</td>\n",
              "      <td>10</td>\n",
              "      <td>131</td>\n",
              "    </tr>\n",
              "    <tr>\n",
              "      <th>18</th>\n",
              "      <td>1589083916</td>\n",
              "      <td>2020-05-10 04:11:56</td>\n",
              "      <td>6</td>\n",
              "      <td>19</td>\n",
              "      <td>5</td>\n",
              "      <td>4</td>\n",
              "      <td>2020</td>\n",
              "      <td>10</td>\n",
              "      <td>131</td>\n",
              "    </tr>\n",
              "    <tr>\n",
              "      <th>19</th>\n",
              "      <td>1589087516</td>\n",
              "      <td>2020-05-10 05:11:56</td>\n",
              "      <td>6</td>\n",
              "      <td>19</td>\n",
              "      <td>5</td>\n",
              "      <td>5</td>\n",
              "      <td>2020</td>\n",
              "      <td>10</td>\n",
              "      <td>131</td>\n",
              "    </tr>\n",
              "    <tr>\n",
              "      <th>20</th>\n",
              "      <td>1589091116</td>\n",
              "      <td>2020-05-10 06:11:56</td>\n",
              "      <td>6</td>\n",
              "      <td>19</td>\n",
              "      <td>5</td>\n",
              "      <td>6</td>\n",
              "      <td>2020</td>\n",
              "      <td>10</td>\n",
              "      <td>131</td>\n",
              "    </tr>\n",
              "    <tr>\n",
              "      <th>21</th>\n",
              "      <td>1589094716</td>\n",
              "      <td>2020-05-10 07:11:56</td>\n",
              "      <td>6</td>\n",
              "      <td>19</td>\n",
              "      <td>5</td>\n",
              "      <td>7</td>\n",
              "      <td>2020</td>\n",
              "      <td>10</td>\n",
              "      <td>131</td>\n",
              "    </tr>\n",
              "    <tr>\n",
              "      <th>22</th>\n",
              "      <td>1589098316</td>\n",
              "      <td>2020-05-10 08:11:56</td>\n",
              "      <td>6</td>\n",
              "      <td>19</td>\n",
              "      <td>5</td>\n",
              "      <td>8</td>\n",
              "      <td>2020</td>\n",
              "      <td>10</td>\n",
              "      <td>131</td>\n",
              "    </tr>\n",
              "    <tr>\n",
              "      <th>23</th>\n",
              "      <td>1589101916</td>\n",
              "      <td>2020-05-10 09:11:56</td>\n",
              "      <td>6</td>\n",
              "      <td>19</td>\n",
              "      <td>5</td>\n",
              "      <td>9</td>\n",
              "      <td>2020</td>\n",
              "      <td>10</td>\n",
              "      <td>131</td>\n",
              "    </tr>\n",
              "  </tbody>\n",
              "</table>\n",
              "</div>"
            ],
            "text/plain": [
              "     timestamp                date  Dia_semanal  ...   Año  Dia  dia_del_año\n",
              "0   1589019116 2020-05-09 10:11:56            5  ...  2020    9          130\n",
              "1   1589022716 2020-05-09 11:11:56            5  ...  2020    9          130\n",
              "2   1589026316 2020-05-09 12:11:56            5  ...  2020    9          130\n",
              "3   1589029916 2020-05-09 13:11:56            5  ...  2020    9          130\n",
              "4   1589033516 2020-05-09 14:11:56            5  ...  2020    9          130\n",
              "5   1589037116 2020-05-09 15:11:56            5  ...  2020    9          130\n",
              "6   1589040716 2020-05-09 16:11:56            5  ...  2020    9          130\n",
              "7   1589044316 2020-05-09 17:11:56            5  ...  2020    9          130\n",
              "8   1589047916 2020-05-09 18:11:56            5  ...  2020    9          130\n",
              "9   1589051516 2020-05-09 19:11:56            5  ...  2020    9          130\n",
              "10  1589055116 2020-05-09 20:11:56            5  ...  2020    9          130\n",
              "11  1589058716 2020-05-09 21:11:56            5  ...  2020    9          130\n",
              "12  1589062316 2020-05-09 22:11:56            5  ...  2020    9          130\n",
              "13  1589065916 2020-05-09 23:11:56            5  ...  2020    9          130\n",
              "14  1589069516 2020-05-10 00:11:56            6  ...  2020   10          131\n",
              "15  1589073116 2020-05-10 01:11:56            6  ...  2020   10          131\n",
              "16  1589076716 2020-05-10 02:11:56            6  ...  2020   10          131\n",
              "17  1589080316 2020-05-10 03:11:56            6  ...  2020   10          131\n",
              "18  1589083916 2020-05-10 04:11:56            6  ...  2020   10          131\n",
              "19  1589087516 2020-05-10 05:11:56            6  ...  2020   10          131\n",
              "20  1589091116 2020-05-10 06:11:56            6  ...  2020   10          131\n",
              "21  1589094716 2020-05-10 07:11:56            6  ...  2020   10          131\n",
              "22  1589098316 2020-05-10 08:11:56            6  ...  2020   10          131\n",
              "23  1589101916 2020-05-10 09:11:56            6  ...  2020   10          131\n",
              "\n",
              "[24 rows x 9 columns]"
            ]
          },
          "metadata": {
            "tags": []
          },
          "execution_count": 188
        }
      ]
    },
    {
      "cell_type": "markdown",
      "metadata": {
        "id": "XRhq2FElR3rU",
        "colab_type": "text"
      },
      "source": [
        "###Graph data"
      ]
    },
    {
      "cell_type": "code",
      "metadata": {
        "id": "-FwRSZo1M-kB",
        "colab_type": "code",
        "outputId": "d8a56754-1842-4104-a1c8-ff8d7dc0706b",
        "colab": {
          "base_uri": "https://localhost:8080/",
          "height": 285
        }
      },
      "source": [
        "Data = dfSoil[['value','date']]\n",
        "\n",
        "df = DataFrame(Data,columns=['date','value'])\n",
        "df.plot(x ='date', y='value', kind = 'line')\n",
        "plt.show()"
      ],
      "execution_count": 0,
      "outputs": [
        {
          "output_type": "display_data",
          "data": {
            "image/png": "[encoded data removed]",
            "text/plain": [
              "<Figure size 432x288 with 1 Axes>"
            ]
          },
          "metadata": {
            "tags": [],
            "needs_background": "light"
          }
        }
      ]
    },
    {
      "cell_type": "code",
      "metadata": {
        "id": "fvotJ87iRxGS",
        "colab_type": "code",
        "outputId": "5d73dd0b-8d49-4e4c-a121-e8764bcb16fe",
        "colab": {
          "base_uri": "https://localhost:8080/",
          "height": 285
        }
      },
      "source": [
        "Data = dfTemp[['value','date']]\n",
        "\n",
        "df = DataFrame(Data,columns=['date','value'])\n",
        "df.plot(x ='date', y='value', kind = 'line')\n",
        "plt.show()"
      ],
      "execution_count": 0,
      "outputs": [
        {
          "output_type": "display_data",
          "data": {
            "image/png": "[encoded data removed]",
            "text/plain": [
              "<Figure size 432x288 with 1 Axes>"
            ]
          },
          "metadata": {
            "tags": [],
            "needs_background": "light"
          }
        }
      ]
    },
    {
      "cell_type": "code",
      "metadata": {
        "id": "rWlopO9CN0nQ",
        "colab_type": "code",
        "outputId": "d51bbcff-7f36-4143-a735-ec7f0413237f",
        "colab": {
          "base_uri": "https://localhost:8080/",
          "height": 279
        }
      },
      "source": [
        "Data = dfLight[['value','date']]\n",
        "\n",
        "df = DataFrame(Data,columns=['date','value'])\n",
        "df.plot(x ='date', y='value', kind = 'line')\n",
        "plt.show()"
      ],
      "execution_count": 0,
      "outputs": [
        {
          "output_type": "display_data",
          "data": {
            "image/png": "[encoded data removed]",
            "text/plain": [
              "<Figure size 432x288 with 1 Axes>"
            ]
          },
          "metadata": {
            "tags": [],
            "needs_background": "light"
          }
        }
      ]
    },
    {
      "cell_type": "markdown",
      "metadata": {
        "id": "F08j6GwvnRmy",
        "colab_type": "text"
      },
      "source": [
        "##Clean Data"
      ]
    },
    {
      "cell_type": "code",
      "metadata": {
        "id": "yJE98AKbnXdS",
        "colab_type": "code",
        "colab": {}
      },
      "source": [
        "dfSoil = dfSoil.set_index('date')\n",
        "dfTemp = dfTemp.set_index('date')\n",
        "dfLight = dfLight.set_index('date')"
      ],
      "execution_count": 0,
      "outputs": []
    },
    {
      "cell_type": "markdown",
      "metadata": {
        "id": "00qLC_82uVnG",
        "colab_type": "text"
      },
      "source": [
        "###Delete unnecessary data"
      ]
    },
    {
      "cell_type": "code",
      "metadata": {
        "id": "QEIdeSTzN080",
        "colab_type": "code",
        "colab": {}
      },
      "source": [
        "dfSoil = dfSoil.drop('context',axis=1)\n",
        "dfSoil = dfSoil.drop('created_at',axis=1)\n",
        "dfSoil = dfSoil.drop('timestamp',axis=1)\n",
        "\n",
        "dfTemp = dfTemp.drop('context',axis=1)\n",
        "dfTemp = dfTemp.drop('created_at',axis=1)\n",
        "dfTemp = dfTemp.drop('timestamp',axis=1)\n",
        "\n",
        "dfLight = dfLight.drop('context',axis=1)\n",
        "dfLight = dfLight.drop('created_at',axis=1)\n",
        "dfLight = dfLight.drop('timestamp',axis=1)"
      ],
      "execution_count": 0,
      "outputs": []
    },
    {
      "cell_type": "markdown",
      "metadata": {
        "id": "x98DXUsLK__9",
        "colab_type": "text"
      },
      "source": [
        "###Separate Data"
      ]
    },
    {
      "cell_type": "code",
      "metadata": {
        "id": "gi5oZ1OnPxPI",
        "colab_type": "code",
        "outputId": "e9e9c1c0-207e-4c2e-d7eb-cd9b3148c5a4",
        "colab": {
          "base_uri": "https://localhost:8080/",
          "height": 102
        }
      },
      "source": [
        "xTrain, xTest,yTrain, yTest = train_test_split(dfSoil, dfSoil['value'],shuffle=False ,train_size = 0.8)\n",
        "X_val, xTest, y_val, yTest = train_test_split(xTest, yTest, test_size =0.5, shuffle=False)\n",
        "print ('Tamaño Original Training:',np.shape(dfSoil))\n",
        "print ('Tamaño xTrain:',np.shape(xTrain))\n",
        "print ('Tamaño yTrain:',np.shape(yTrain))\n",
        "print ('Muestra xTest:',np.shape(xTest))\n",
        "print ('Muestra yTest:',np.shape(yTest))"
      ],
      "execution_count": 0,
      "outputs": [
        {
          "output_type": "stream",
          "text": [
            "Tamaño Original Training: (2100, 8)\n",
            "Tamaño xTrain: (1680, 8)\n",
            "Tamaño yTrain: (1680,)\n",
            "Muestra xTest: (210, 8)\n",
            "Muestra yTest: (210,)\n"
          ],
          "name": "stdout"
        }
      ]
    },
    {
      "cell_type": "markdown",
      "metadata": {
        "id": "6Ky5kfSpPJMj",
        "colab_type": "text"
      },
      "source": [
        "##Linear Regression"
      ]
    },
    {
      "cell_type": "markdown",
      "metadata": {
        "id": "fYSl5z8HpM1q",
        "colab_type": "text"
      },
      "source": [
        "###Graphs"
      ]
    },
    {
      "cell_type": "code",
      "metadata": {
        "id": "ewYBmchUwgj4",
        "colab_type": "code",
        "outputId": "dfe721e8-a6c8-43d7-bcf5-0196be3f43db",
        "colab": {
          "base_uri": "https://localhost:8080/",
          "height": 282
        }
      },
      "source": [
        "dfSoil['Mes'].hist()"
      ],
      "execution_count": 0,
      "outputs": [
        {
          "output_type": "execute_result",
          "data": {
            "text/plain": [
              "<matplotlib.axes._subplots.AxesSubplot at 0x7ff1615fdda0>"
            ]
          },
          "metadata": {
            "tags": []
          },
          "execution_count": 195
        },
        {
          "output_type": "display_data",
          "data": {
            "image/png": "[encoded data removed]",
            "text/plain": [
              "<Figure size 432x288 with 1 Axes>"
            ]
          },
          "metadata": {
            "tags": [],
            "needs_background": "light"
          }
        }
      ]
    },
    {
      "cell_type": "code",
      "metadata": {
        "id": "xL6tQp5bwg1b",
        "colab_type": "code",
        "outputId": "dcec5a3d-d201-499c-c1e6-e7cc1d1e0c42",
        "colab": {
          "base_uri": "https://localhost:8080/",
          "height": 282
        }
      },
      "source": [
        "dfSoil['Dia'].hist()\n"
      ],
      "execution_count": 0,
      "outputs": [
        {
          "output_type": "execute_result",
          "data": {
            "text/plain": [
              "<matplotlib.axes._subplots.AxesSubplot at 0x7ff1615fd5c0>"
            ]
          },
          "metadata": {
            "tags": []
          },
          "execution_count": 196
        },
        {
          "output_type": "display_data",
          "data": {
            "image/png": "[encoded data removed]",
            "text/plain": [
              "<Figure size 432x288 with 1 Axes>"
            ]
          },
          "metadata": {
            "tags": [],
            "needs_background": "light"
          }
        }
      ]
    },
    {
      "cell_type": "code",
      "metadata": {
        "id": "iDBGwBnpxkL5",
        "colab_type": "code",
        "outputId": "1afab5e1-3118-44b3-bb03-81e397f6d47d",
        "colab": {
          "base_uri": "https://localhost:8080/",
          "height": 282
        }
      },
      "source": [
        "dfSoil['Hora'].hist()"
      ],
      "execution_count": 0,
      "outputs": [
        {
          "output_type": "execute_result",
          "data": {
            "text/plain": [
              "<matplotlib.axes._subplots.AxesSubplot at 0x7ff161443c18>"
            ]
          },
          "metadata": {
            "tags": []
          },
          "execution_count": 197
        },
        {
          "output_type": "display_data",
          "data": {
            "image/png": "[encoded data removed]",
            "text/plain": [
              "<Figure size 432x288 with 1 Axes>"
            ]
          },
          "metadata": {
            "tags": [],
            "needs_background": "light"
          }
        }
      ]
    },
    {
      "cell_type": "markdown",
      "metadata": {
        "id": "5XaKf5Wbtzww",
        "colab_type": "text"
      },
      "source": [
        "##Linear Model"
      ]
    },
    {
      "cell_type": "code",
      "metadata": {
        "id": "BVR-NyO8-74T",
        "colab_type": "code",
        "outputId": "65f79bfd-a7f1-409f-cf37-e606a4482b27",
        "colab": {
          "base_uri": "https://localhost:8080/",
          "height": 34
        }
      },
      "source": [
        "from sklearn import linear_model\n",
        "regSoil = linear_model.LinearRegression()\n",
        "regTemp = linear_model.LinearRegression()\n",
        "regLight = linear_model.LinearRegression()\n",
        "\n",
        "regSoil.fit(dfSoil[['Dia_semanal','Semana_anual','Mes','Hora','Año','Dia','dia_del_año']],dfSoil.value)\n",
        "regTemp.fit(dfTemp[['Dia_semanal','Semana_anual','Mes','Hora','Año','Dia','dia_del_año']],dfTemp.value)\n",
        "regLight.fit(dfLight[['Dia_semanal','Semana_anual','Mes','Hora','Año','Dia','dia_del_año']],dfLight.value)\n"
      ],
      "execution_count": 0,
      "outputs": [
        {
          "output_type": "execute_result",
          "data": {
            "text/plain": [
              "LinearRegression(copy_X=True, fit_intercept=True, n_jobs=None, normalize=False)"
            ]
          },
          "metadata": {
            "tags": []
          },
          "execution_count": 198
        }
      ]
    },
    {
      "cell_type": "code",
      "metadata": {
        "id": "Q1jQqwOxBaFe",
        "colab_type": "code",
        "outputId": "9c0717e7-f08f-4888-ee2c-fdcbea272639",
        "colab": {
          "base_uri": "https://localhost:8080/",
          "height": 119
        }
      },
      "source": [
        "print(regSoil.coef_)\n",
        "print(regTemp.coef_)\n",
        "print(regLight.coef_)"
      ],
      "execution_count": 0,
      "outputs": [
        {
          "output_type": "stream",
          "text": [
            "[ 1.91950603e+13  3.56069636e+10  1.17187500e-02 -2.05078125e-01\n",
            "  0.00000000e+00 -1.90816666e+13 -1.13393696e+11]\n",
            "[ 4.48024251e+12  1.09209546e+07  4.88281250e-04  2.43164062e-01\n",
            "  0.00000000e+00 -2.19058513e+12 -2.28965738e+12]\n",
            "[-3.15329124e+14  1.71946407e+12  1.56250000e-01  7.81250000e-02\n",
            "  0.00000000e+00  3.09348563e+14  5.98056148e+12]\n"
          ],
          "name": "stdout"
        }
      ]
    },
    {
      "cell_type": "code",
      "metadata": {
        "id": "t3S3G6UsBkQ8",
        "colab_type": "code",
        "outputId": "4e3e29f6-9cc8-4f0a-9f09-8d67789e1e59",
        "colab": {
          "base_uri": "https://localhost:8080/",
          "height": 68
        }
      },
      "source": [
        "print(regSoil.intercept_)\n",
        "print(regTemp.intercept_)\n",
        "print(regLight.intercept_)"
      ],
      "execution_count": 0,
      "outputs": [
        {
          "output_type": "stream",
          "text": [
            "89824346247007.8\n",
            "294969305701669.94\n",
            "-2017634254621643.0\n"
          ],
          "name": "stdout"
        }
      ]
    },
    {
      "cell_type": "code",
      "metadata": {
        "id": "XIslawdPBpKo",
        "colab_type": "code",
        "outputId": "7edba1ac-b719-461c-83fc-50e22f55f1c1",
        "colab": {
          "base_uri": "https://localhost:8080/",
          "height": 629
        }
      },
      "source": [
        "#Agregar Valores\n",
        "predictSoil = []\n",
        "predictTemp = []\n",
        "predictLight = []\n",
        "\n",
        "for i in range(0,23):\n",
        "  predictSoil.append(regSoil.predict([[tsSoil['Dia_semanal'].iloc[i] , tsSoil['Semana_anual'].iloc[i] , tsSoil['Mes'].iloc[i] , tsSoil['Hora'].iloc[i], tsSoil['Año'].iloc[i], tsSoil['Dia'].iloc[i], tsSoil['dia_del_año'].iloc[i]]]) )\n",
        "  predictTemp.append(regTemp.predict([[tsTemp['Dia_semanal'].iloc[i] , tsTemp['Semana_anual'].iloc[i] , tsTemp['Mes'].iloc[i] , tsTemp['Hora'].iloc[i], tsTemp['Año'].iloc[i], tsTemp['Dia'].iloc[i], tsTemp['dia_del_año'].iloc[i]]]) )\n",
        "  predictLight.append(regLight.predict([[tsLight['Dia_semanal'].iloc[i] , tsLight['Semana_anual'].iloc[i] , tsLight['Mes'].iloc[i] , tsLight['Hora'].iloc[i], tsLight['Año'].iloc[i], tsLight['Dia'].iloc[i], tsLight['dia_del_año'].iloc[i]]]) )\n",
        "\n",
        "  print([tsSoil['Dia_semanal'].iloc[i] , tsSoil['Semana_anual'].iloc[i] , tsSoil['Mes'].iloc[i] , tsSoil['Hora'].iloc[i], tsSoil['Año'].iloc[i], tsSoil['Dia'].iloc[i], tsSoil['dia_del_año'].iloc[i]])\n",
        "print(dfSoil.value)"
      ],
      "execution_count": 0,
      "outputs": [
        {
          "output_type": "stream",
          "text": [
            "[5, 19, 5, 10, 2020, 9, 130]\n",
            "[5, 19, 5, 11, 2020, 9, 130]\n",
            "[5, 19, 5, 12, 2020, 9, 130]\n",
            "[5, 19, 5, 13, 2020, 9, 130]\n",
            "[5, 19, 5, 14, 2020, 9, 130]\n",
            "[5, 19, 5, 15, 2020, 9, 130]\n",
            "[5, 19, 5, 16, 2020, 9, 130]\n",
            "[5, 19, 5, 17, 2020, 9, 130]\n",
            "[5, 19, 5, 18, 2020, 9, 130]\n",
            "[5, 19, 5, 19, 2020, 9, 130]\n",
            "[5, 19, 5, 20, 2020, 9, 130]\n",
            "[5, 19, 5, 21, 2020, 9, 130]\n",
            "[5, 19, 5, 22, 2020, 9, 130]\n",
            "[5, 19, 5, 23, 2020, 9, 130]\n",
            "[6, 19, 5, 0, 2020, 10, 131]\n",
            "[6, 19, 5, 1, 2020, 10, 131]\n",
            "[6, 19, 5, 2, 2020, 10, 131]\n",
            "[6, 19, 5, 3, 2020, 10, 131]\n",
            "[6, 19, 5, 4, 2020, 10, 131]\n",
            "[6, 19, 5, 5, 2020, 10, 131]\n",
            "[6, 19, 5, 6, 2020, 10, 131]\n",
            "[6, 19, 5, 7, 2020, 10, 131]\n",
            "[6, 19, 5, 8, 2020, 10, 131]\n",
            "date\n",
            "2020-05-09 09:11:56    84.94\n",
            "2020-05-09 09:10:34    84.94\n",
            "2020-05-09 09:07:52    84.94\n",
            "2020-05-09 09:06:30    84.94\n",
            "2020-05-09 09:05:08    84.94\n",
            "                       ...  \n",
            "2020-05-04 18:52:43    89.14\n",
            "2020-05-04 18:52:33    89.14\n",
            "2020-05-04 18:52:23    89.14\n",
            "2020-05-04 18:52:13    89.14\n",
            "2020-05-04 18:52:03    89.14\n",
            "Name: value, Length: 2100, dtype: float64\n"
          ],
          "name": "stdout"
        }
      ]
    },
    {
      "cell_type": "code",
      "metadata": {
        "id": "7rbacpAOkszs",
        "colab_type": "code",
        "outputId": "c18dc91e-ae63-4f09-b599-0ccc18502a42",
        "colab": {
          "base_uri": "https://localhost:8080/",
          "height": 408
        }
      },
      "source": [
        "predictSoil"
      ],
      "execution_count": 0,
      "outputs": [
        {
          "output_type": "execute_result",
          "data": {
            "text/plain": [
              "[array([77.46875]),\n",
              " array([77.265625]),\n",
              " array([77.046875]),\n",
              " array([76.84375]),\n",
              " array([76.640625]),\n",
              " array([76.4375]),\n",
              " array([76.234375]),\n",
              " array([76.03125]),\n",
              " array([75.828125]),\n",
              " array([75.625]),\n",
              " array([75.421875]),\n",
              " array([75.203125]),\n",
              " array([75.]),\n",
              " array([74.796875]),\n",
              " array([77.859375]),\n",
              " array([77.65625]),\n",
              " array([77.453125]),\n",
              " array([77.25]),\n",
              " array([77.046875]),\n",
              " array([76.828125]),\n",
              " array([76.625]),\n",
              " array([76.421875]),\n",
              " array([76.21875])]"
            ]
          },
          "metadata": {
            "tags": []
          },
          "execution_count": 202
        }
      ]
    },
    {
      "cell_type": "code",
      "metadata": {
        "id": "NYlyc56cv0NR",
        "colab_type": "code",
        "outputId": "60f79ca8-7c38-45fd-a692-355c518726e9",
        "colab": {
          "base_uri": "https://localhost:8080/",
          "height": 408
        }
      },
      "source": [
        "predictTemp"
      ],
      "execution_count": 0,
      "outputs": [
        {
          "output_type": "execute_result",
          "data": {
            "text/plain": [
              "[array([26.0625]),\n",
              " array([26.5625]),\n",
              " array([26.8125]),\n",
              " array([27.0625]),\n",
              " array([27.25]),\n",
              " array([27.5]),\n",
              " array([27.75]),\n",
              " array([28.]),\n",
              " array([28.25]),\n",
              " array([28.5]),\n",
              " array([28.75]),\n",
              " array([29.]),\n",
              " array([29.25]),\n",
              " array([23.25]),\n",
              " array([23.4375]),\n",
              " array([23.6875]),\n",
              " array([23.9375]),\n",
              " array([24.1875]),\n",
              " array([24.4375]),\n",
              " array([24.6875]),\n",
              " array([24.9375]),\n",
              " array([25.1875]),\n",
              " array([25.4375])]"
            ]
          },
          "metadata": {
            "tags": []
          },
          "execution_count": 203
        }
      ]
    },
    {
      "cell_type": "code",
      "metadata": {
        "id": "jioeylgQk77c",
        "colab_type": "code",
        "colab": {}
      },
      "source": [
        ""
      ],
      "execution_count": 0,
      "outputs": []
    },
    {
      "cell_type": "code",
      "metadata": {
        "id": "VTXKOuvhv0uW",
        "colab_type": "code",
        "outputId": "04d94c96-1bdf-496a-ba5c-dec53bf71a4e",
        "colab": {
          "base_uri": "https://localhost:8080/",
          "height": 408
        }
      },
      "source": [
        "predictLight"
      ],
      "execution_count": 0,
      "outputs": [
        {
          "output_type": "execute_result",
          "data": {
            "text/plain": [
              "[array([86.75]),\n",
              " array([87.]),\n",
              " array([87.]),\n",
              " array([87.]),\n",
              " array([87.25]),\n",
              " array([87.25]),\n",
              " array([87.25]),\n",
              " array([87.5]),\n",
              " array([87.5]),\n",
              " array([87.5]),\n",
              " array([87.75]),\n",
              " array([87.75]),\n",
              " array([87.75]),\n",
              " array([85.5]),\n",
              " array([85.5]),\n",
              " array([85.75]),\n",
              " array([85.75]),\n",
              " array([85.75]),\n",
              " array([86.]),\n",
              " array([86.]),\n",
              " array([86.]),\n",
              " array([86.25]),\n",
              " array([86.25])]"
            ]
          },
          "metadata": {
            "tags": []
          },
          "execution_count": 204
        }
      ]
    },
    {
      "cell_type": "code",
      "metadata": {
        "id": "8nlRWMioDpul",
        "colab_type": "code",
        "outputId": "9174b7f8-25d5-4dc5-ce70-6d0bf1c9f296",
        "colab": {
          "base_uri": "https://localhost:8080/",
          "height": 54
        }
      },
      "source": [
        "print(regSoil.score)"
      ],
      "execution_count": 0,
      "outputs": [
        {
          "output_type": "stream",
          "text": [
            "<bound method RegressorMixin.score of LinearRegression(copy_X=True, fit_intercept=True, n_jobs=None, normalize=False)>\n"
          ],
          "name": "stdout"
        }
      ]
    },
    {
      "cell_type": "markdown",
      "metadata": {
        "id": "Rxr210amgdxa",
        "colab_type": "text"
      },
      "source": [
        "##Send a Ubidots endpoint\n"
      ]
    },
    {
      "cell_type": "code",
      "metadata": {
        "id": "BlkoUKB8SOPK",
        "colab_type": "code",
        "colab": {}
      },
      "source": [
        "#breakPoint #Esto es para evitar subir los datos a ubidots cada vez que se ejecute el programa"
      ],
      "execution_count": 0,
      "outputs": []
    },
    {
      "cell_type": "code",
      "metadata": {
        "id": "jB3DtGwHgejE",
        "colab_type": "code",
        "colab": {}
      },
      "source": [
        "import requests\n",
        "import time\n",
        "BASE_URL = \"https://industrial.api.ubidots.com\"\n",
        "REQUESTS_FUNCTIONS = {\"get\": requests.get, \"post\": requests.post}\n",
        "\n",
        "def main(args):\n",
        "    '''\n",
        "    Main function - runs every time the function is executed.\n",
        "    \"args\" is a dictionary containing both the URL params and the HTTP body (for POST requests).\n",
        "    '''\n",
        "    token = args.get('token', None)\n",
        "    device = args.get('device', None)\n",
        "\n",
        "    if token is None or device is None:\n",
        "        print(\"[ERROR] Please send your Ubidots Token and device label to update in your args\")\n",
        "        return {\"status\": \"error\"}\n",
        "    \n",
        "    del args['token']\n",
        "    del args['device']\n",
        "\n",
        "    # Log the payload to the console, for debugging purposes. You may access the function's logs using\n",
        "    # the option in the above header.\n",
        "\n",
        "    print(\"[INFO] Payload to send: {}\".format(args))\n",
        "\n",
        "    # Use the remaining parameters as payload\n",
        "    req = update_device(device, args, token)\n",
        "\n",
        "    # Prints the request result\n",
        "\n",
        "    print(\"[INFO] Request result:\")\n",
        "    print(req.text)\n",
        "\n",
        "    return {\"status\": \"Ok\", \"result\": req.json()}\n",
        "\n",
        "def update_device(device, payload, token):\n",
        "    \"\"\"\n",
        "    updates a variable with a single dot\n",
        "    \"\"\"\n",
        "\n",
        "    url = \"{}/api/v1.6/devices/{}\".format(BASE_URL, device)\n",
        "    headers = {\"X-Auth-Token\": token, \"Content-Type\": \"application/json\"}\n",
        "\n",
        "    req = create_request(url, headers, payload, attempts=5, request_type=\"post\")\n",
        "    \n",
        "    return req\n",
        "\n",
        "def create_request(url, headers, data, attempts, request_type):\n",
        "    \"\"\"\n",
        "    Function to create a request to the server\n",
        "    \"\"\"\n",
        "\n",
        "    request_func = REQUESTS_FUNCTIONS.get(request_type)\n",
        "\n",
        "    kwargs = {\"url\": url, \"headers\": headers}\n",
        "\n",
        "    if request_type == \"post\":\n",
        "        kwargs[\"json\"] = data\n",
        "\n",
        "    try:\n",
        "        req = request_func(**kwargs)\n",
        "        print(\"[INFO] Request result: {}\".format(req.text))\n",
        "        status_code = req.status_code\n",
        "        time.sleep(1)\n",
        "\n",
        "        while status_code >= 400 and attempts < 5:\n",
        "            req = request_func(**kwargs)\n",
        "            print(\"[INFO] Request result: {}\".format(req.text))\n",
        "            status_code = req.status_code\n",
        "            attempts += 1\n",
        "            time.sleep(1)\n",
        "\n",
        "        return req\n",
        "    except Exception as e:\n",
        "        print(\"[ERROR] There was an error with the request, details:\")\n",
        "        print(e)\n",
        "        return None\n"
      ],
      "execution_count": 0,
      "outputs": []
    },
    {
      "cell_type": "code",
      "metadata": {
        "id": "oTJE7j40lfGg",
        "colab_type": "code",
        "outputId": "e2061853-2dd8-4d48-8bda-9cf4164e060b",
        "colab": {
          "base_uri": "https://localhost:8080/",
          "height": 408
        }
      },
      "source": [
        "#SOIL\n",
        "device = \"Prediction\"\n",
        "token = \"BBFF-sCI4BMLnYxSCDgJwsR5AwQlwIqYsl6\"\n",
        "\n",
        "for i in range(0,23):\n",
        "  payload = { \n",
        "      \"soil-humidity-prediction\":predictSoil[i][0]\n",
        "      }\n",
        "  update_device( device , payload , token )\n"
      ],
      "execution_count": 0,
      "outputs": [
        {
          "output_type": "stream",
          "text": [
            "[INFO] Request result: {\"soil-humidity-prediction\": [{\"status_code\": 201}]}\n",
            "[INFO] Request result: {\"soil-humidity-prediction\": [{\"status_code\": 201}]}\n",
            "[INFO] Request result: {\"soil-humidity-prediction\": [{\"status_code\": 201}]}\n",
            "[INFO] Request result: {\"soil-humidity-prediction\": [{\"status_code\": 201}]}\n",
            "[INFO] Request result: {\"soil-humidity-prediction\": [{\"status_code\": 201}]}\n",
            "[INFO] Request result: {\"soil-humidity-prediction\": [{\"status_code\": 201}]}\n",
            "[INFO] Request result: {\"soil-humidity-prediction\": [{\"status_code\": 201}]}\n",
            "[INFO] Request result: {\"soil-humidity-prediction\": [{\"status_code\": 201}]}\n",
            "[INFO] Request result: {\"soil-humidity-prediction\": [{\"status_code\": 201}]}\n",
            "[INFO] Request result: {\"soil-humidity-prediction\": [{\"status_code\": 201}]}\n",
            "[INFO] Request result: {\"soil-humidity-prediction\": [{\"status_code\": 201}]}\n",
            "[INFO] Request result: {\"soil-humidity-prediction\": [{\"status_code\": 201}]}\n",
            "[INFO] Request result: {\"soil-humidity-prediction\": [{\"status_code\": 201}]}\n",
            "[INFO] Request result: {\"soil-humidity-prediction\": [{\"status_code\": 201}]}\n",
            "[INFO] Request result: {\"soil-humidity-prediction\": [{\"status_code\": 201}]}\n",
            "[INFO] Request result: {\"soil-humidity-prediction\": [{\"status_code\": 201}]}\n",
            "[INFO] Request result: {\"soil-humidity-prediction\": [{\"status_code\": 201}]}\n",
            "[INFO] Request result: {\"soil-humidity-prediction\": [{\"status_code\": 201}]}\n",
            "[INFO] Request result: {\"soil-humidity-prediction\": [{\"status_code\": 201}]}\n",
            "[INFO] Request result: {\"soil-humidity-prediction\": [{\"status_code\": 201}]}\n",
            "[INFO] Request result: {\"soil-humidity-prediction\": [{\"status_code\": 201}]}\n",
            "[INFO] Request result: {\"soil-humidity-prediction\": [{\"status_code\": 201}]}\n",
            "[INFO] Request result: {\"soil-humidity-prediction\": [{\"status_code\": 201}]}\n"
          ],
          "name": "stdout"
        }
      ]
    },
    {
      "cell_type": "code",
      "metadata": {
        "id": "d76BcwKY6Avx",
        "colab_type": "code",
        "outputId": "ccfacc63-eb41-40ac-cdae-01294f45c56e",
        "colab": {
          "base_uri": "https://localhost:8080/",
          "height": 408
        }
      },
      "source": [
        "for i in range(0,23):\n",
        "  payload = { \"Air Temperature-prediction\":predictTemp[i][0]}\n",
        "  update_device( device , payload , token )\n"
      ],
      "execution_count": 0,
      "outputs": [
        {
          "output_type": "stream",
          "text": [
            "[INFO] Request result: {\"air-temperature-prediction\": [{\"status_code\": 201}]}\n",
            "[INFO] Request result: {\"air-temperature-prediction\": [{\"status_code\": 201}]}\n",
            "[INFO] Request result: {\"air-temperature-prediction\": [{\"status_code\": 201}]}\n",
            "[INFO] Request result: {\"air-temperature-prediction\": [{\"status_code\": 201}]}\n",
            "[INFO] Request result: {\"air-temperature-prediction\": [{\"status_code\": 201}]}\n",
            "[INFO] Request result: {\"air-temperature-prediction\": [{\"status_code\": 201}]}\n",
            "[INFO] Request result: {\"air-temperature-prediction\": [{\"status_code\": 201}]}\n",
            "[INFO] Request result: {\"air-temperature-prediction\": [{\"status_code\": 201}]}\n",
            "[INFO] Request result: {\"air-temperature-prediction\": [{\"status_code\": 201}]}\n",
            "[INFO] Request result: {\"air-temperature-prediction\": [{\"status_code\": 201}]}\n",
            "[INFO] Request result: {\"air-temperature-prediction\": [{\"status_code\": 201}]}\n",
            "[INFO] Request result: {\"air-temperature-prediction\": [{\"status_code\": 201}]}\n",
            "[INFO] Request result: {\"air-temperature-prediction\": [{\"status_code\": 201}]}\n",
            "[INFO] Request result: {\"air-temperature-prediction\": [{\"status_code\": 201}]}\n",
            "[INFO] Request result: {\"air-temperature-prediction\": [{\"status_code\": 201}]}\n",
            "[INFO] Request result: {\"air-temperature-prediction\": [{\"status_code\": 201}]}\n",
            "[INFO] Request result: {\"air-temperature-prediction\": [{\"status_code\": 201}]}\n",
            "[INFO] Request result: {\"air-temperature-prediction\": [{\"status_code\": 201}]}\n",
            "[INFO] Request result: {\"air-temperature-prediction\": [{\"status_code\": 201}]}\n",
            "[INFO] Request result: {\"air-temperature-prediction\": [{\"status_code\": 201}]}\n",
            "[INFO] Request result: {\"air-temperature-prediction\": [{\"status_code\": 201}]}\n",
            "[INFO] Request result: {\"air-temperature-prediction\": [{\"status_code\": 201}]}\n",
            "[INFO] Request result: {\"air-temperature-prediction\": [{\"status_code\": 201}]}\n"
          ],
          "name": "stdout"
        }
      ]
    },
    {
      "cell_type": "code",
      "metadata": {
        "id": "RuoZ_RQs6BBI",
        "colab_type": "code",
        "outputId": "00a3b254-af89-4279-e923-2c14489f7d7f",
        "colab": {
          "base_uri": "https://localhost:8080/",
          "height": 408
        }
      },
      "source": [
        "for i in range(0,23):\n",
        "  payload = { \"luminosity-prediction\":predictLight[i][0]}\n",
        "  update_device( device , payload , token )\n"
      ],
      "execution_count": 0,
      "outputs": [
        {
          "output_type": "stream",
          "text": [
            "[INFO] Request result: {\"luminosity-prediction\": [{\"status_code\": 201}]}\n",
            "[INFO] Request result: {\"luminosity-prediction\": [{\"status_code\": 201}]}\n",
            "[INFO] Request result: {\"luminosity-prediction\": [{\"status_code\": 201}]}\n",
            "[INFO] Request result: {\"luminosity-prediction\": [{\"status_code\": 201}]}\n",
            "[INFO] Request result: {\"luminosity-prediction\": [{\"status_code\": 201}]}\n",
            "[INFO] Request result: {\"luminosity-prediction\": [{\"status_code\": 201}]}\n",
            "[INFO] Request result: {\"luminosity-prediction\": [{\"status_code\": 201}]}\n",
            "[INFO] Request result: {\"luminosity-prediction\": [{\"status_code\": 201}]}\n",
            "[INFO] Request result: {\"luminosity-prediction\": [{\"status_code\": 201}]}\n",
            "[INFO] Request result: {\"luminosity-prediction\": [{\"status_code\": 201}]}\n",
            "[INFO] Request result: {\"luminosity-prediction\": [{\"status_code\": 201}]}\n",
            "[INFO] Request result: {\"luminosity-prediction\": [{\"status_code\": 201}]}\n",
            "[INFO] Request result: {\"luminosity-prediction\": [{\"status_code\": 201}]}\n",
            "[INFO] Request result: {\"luminosity-prediction\": [{\"status_code\": 201}]}\n",
            "[INFO] Request result: {\"luminosity-prediction\": [{\"status_code\": 201}]}\n",
            "[INFO] Request result: {\"luminosity-prediction\": [{\"status_code\": 201}]}\n",
            "[INFO] Request result: {\"luminosity-prediction\": [{\"status_code\": 201}]}\n",
            "[INFO] Request result: {\"luminosity-prediction\": [{\"status_code\": 201}]}\n",
            "[INFO] Request result: {\"luminosity-prediction\": [{\"status_code\": 201}]}\n",
            "[INFO] Request result: {\"luminosity-prediction\": [{\"status_code\": 201}]}\n",
            "[INFO] Request result: {\"luminosity-prediction\": [{\"status_code\": 201}]}\n",
            "[INFO] Request result: {\"luminosity-prediction\": [{\"status_code\": 201}]}\n",
            "[INFO] Request result: {\"luminosity-prediction\": [{\"status_code\": 201}]}\n"
          ],
          "name": "stdout"
        }
      ]
    },
    {
      "cell_type": "markdown",
      "metadata": {
        "id": "CwuY3TQ6SqNx",
        "colab_type": "text"
      },
      "source": [
        "##XGboost"
      ]
    },
    {
      "cell_type": "markdown",
      "metadata": {
        "id": "twG8ZaVGLNvc",
        "colab_type": "text"
      },
      "source": [
        "###xgboost implementation"
      ]
    },
    {
      "cell_type": "code",
      "metadata": {
        "id": "feyg92a8V3e9",
        "colab_type": "code",
        "outputId": "96271ad7-46d3-4061-fbf3-7055b42bc13d",
        "colab": {
          "base_uri": "https://localhost:8080/",
          "height": 1000
        }
      },
      "source": [
        "\n",
        "maxDepth = [5]\n",
        "learningRate = [0.1] \n",
        "subSample = [1] \n",
        "\n",
        "model = XGBRegressor(max_depth = 5, learning_rate = 0.1, subsample =1, n_jobs = -1)\n",
        "#eval_set = [(xTrain, yTrain), (xTest, yTest)]\n",
        "model.fit(xTrain, yTrain, eval_set=[(X_val, y_val)],  verbose = True)\n",
        "\n",
        "#MAPE\n",
        "y_pred_proba = model.predict(xTest)\n",
        "y_true = yTest\n",
        "#r = mean_absolute_percentage_error(y_true,y_pred_proba)\n",
        "meanSquare = mean_squared_error(y_val, model.predict(X_val))\n",
        "#estimators1.append(x)\n"
      ],
      "execution_count": 0,
      "outputs": [
        {
          "output_type": "stream",
          "text": [
            "[18:11:39] WARNING: /workspace/src/objective/regression_obj.cu:152: reg:linear is now deprecated in favor of reg:squarederror.\n",
            "[0]\tvalidation_0-rmse:69.0418\n",
            "[1]\tvalidation_0-rmse:62.2423\n",
            "[2]\tvalidation_0-rmse:56.1791\n",
            "[3]\tvalidation_0-rmse:50.6813\n",
            "[4]\tvalidation_0-rmse:45.8785\n",
            "[5]\tvalidation_0-rmse:41.4406\n",
            "[6]\tvalidation_0-rmse:37.5153\n",
            "[7]\tvalidation_0-rmse:34.0672\n",
            "[8]\tvalidation_0-rmse:31.0078\n",
            "[9]\tvalidation_0-rmse:28.3647\n",
            "[10]\tvalidation_0-rmse:25.983\n",
            "[11]\tvalidation_0-rmse:23.9731\n",
            "[12]\tvalidation_0-rmse:22.2704\n",
            "[13]\tvalidation_0-rmse:20.7446\n",
            "[14]\tvalidation_0-rmse:19.4784\n",
            "[15]\tvalidation_0-rmse:18.4038\n",
            "[16]\tvalidation_0-rmse:17.4808\n",
            "[17]\tvalidation_0-rmse:16.7359\n",
            "[18]\tvalidation_0-rmse:16.1264\n",
            "[19]\tvalidation_0-rmse:15.6035\n",
            "[20]\tvalidation_0-rmse:15.1726\n",
            "[21]\tvalidation_0-rmse:14.8418\n",
            "[22]\tvalidation_0-rmse:14.5689\n",
            "[23]\tvalidation_0-rmse:14.364\n",
            "[24]\tvalidation_0-rmse:14.1873\n",
            "[25]\tvalidation_0-rmse:14.0615\n",
            "[26]\tvalidation_0-rmse:13.9628\n",
            "[27]\tvalidation_0-rmse:13.901\n",
            "[28]\tvalidation_0-rmse:13.8559\n",
            "[29]\tvalidation_0-rmse:13.8179\n",
            "[30]\tvalidation_0-rmse:13.792\n",
            "[31]\tvalidation_0-rmse:13.7735\n",
            "[32]\tvalidation_0-rmse:13.7645\n",
            "[33]\tvalidation_0-rmse:13.7569\n",
            "[34]\tvalidation_0-rmse:13.7578\n",
            "[35]\tvalidation_0-rmse:13.7578\n",
            "[36]\tvalidation_0-rmse:13.7629\n",
            "[37]\tvalidation_0-rmse:13.7723\n",
            "[38]\tvalidation_0-rmse:13.7761\n",
            "[39]\tvalidation_0-rmse:13.781\n",
            "[40]\tvalidation_0-rmse:13.7779\n",
            "[41]\tvalidation_0-rmse:13.7763\n",
            "[42]\tvalidation_0-rmse:13.7822\n",
            "[43]\tvalidation_0-rmse:13.7825\n",
            "[44]\tvalidation_0-rmse:13.7898\n",
            "[45]\tvalidation_0-rmse:13.7951\n",
            "[46]\tvalidation_0-rmse:13.8015\n",
            "[47]\tvalidation_0-rmse:13.806\n",
            "[48]\tvalidation_0-rmse:13.8104\n",
            "[49]\tvalidation_0-rmse:13.811\n",
            "[50]\tvalidation_0-rmse:13.8148\n",
            "[51]\tvalidation_0-rmse:13.8155\n",
            "[52]\tvalidation_0-rmse:13.8188\n",
            "[53]\tvalidation_0-rmse:13.8195\n",
            "[54]\tvalidation_0-rmse:13.8223\n",
            "[55]\tvalidation_0-rmse:13.8229\n",
            "[56]\tvalidation_0-rmse:13.8252\n",
            "[57]\tvalidation_0-rmse:13.8259\n",
            "[58]\tvalidation_0-rmse:13.8264\n",
            "[59]\tvalidation_0-rmse:13.8283\n",
            "[60]\tvalidation_0-rmse:13.8288\n",
            "[61]\tvalidation_0-rmse:13.8293\n",
            "[62]\tvalidation_0-rmse:13.8298\n",
            "[63]\tvalidation_0-rmse:13.831\n",
            "[64]\tvalidation_0-rmse:13.8321\n",
            "[65]\tvalidation_0-rmse:13.8329\n",
            "[66]\tvalidation_0-rmse:13.8333\n",
            "[67]\tvalidation_0-rmse:13.8341\n",
            "[68]\tvalidation_0-rmse:13.8345\n",
            "[69]\tvalidation_0-rmse:13.8348\n",
            "[70]\tvalidation_0-rmse:13.8354\n",
            "[71]\tvalidation_0-rmse:13.836\n",
            "[72]\tvalidation_0-rmse:13.8362\n",
            "[73]\tvalidation_0-rmse:13.8369\n",
            "[74]\tvalidation_0-rmse:13.8371\n",
            "[75]\tvalidation_0-rmse:13.8376\n",
            "[76]\tvalidation_0-rmse:13.8378\n",
            "[77]\tvalidation_0-rmse:13.8383\n",
            "[78]\tvalidation_0-rmse:13.8387\n",
            "[79]\tvalidation_0-rmse:13.8389\n",
            "[80]\tvalidation_0-rmse:13.8392\n",
            "[81]\tvalidation_0-rmse:13.8392\n",
            "[82]\tvalidation_0-rmse:13.8395\n",
            "[83]\tvalidation_0-rmse:13.8397\n",
            "[84]\tvalidation_0-rmse:13.84\n",
            "[85]\tvalidation_0-rmse:13.8401\n",
            "[86]\tvalidation_0-rmse:13.8404\n",
            "[87]\tvalidation_0-rmse:13.8405\n",
            "[88]\tvalidation_0-rmse:13.8407\n",
            "[89]\tvalidation_0-rmse:13.8407\n",
            "[90]\tvalidation_0-rmse:13.8409\n",
            "[91]\tvalidation_0-rmse:13.841\n",
            "[92]\tvalidation_0-rmse:13.8411\n",
            "[93]\tvalidation_0-rmse:13.8411\n",
            "[94]\tvalidation_0-rmse:13.8411\n",
            "[95]\tvalidation_0-rmse:13.8412\n",
            "[96]\tvalidation_0-rmse:13.8413\n",
            "[97]\tvalidation_0-rmse:13.8414\n",
            "[98]\tvalidation_0-rmse:13.8413\n",
            "[99]\tvalidation_0-rmse:13.8412\n"
          ],
          "name": "stdout"
        }
      ]
    },
    {
      "cell_type": "code",
      "metadata": {
        "id": "KB10o0CBc-Tl",
        "colab_type": "code",
        "outputId": "f89225b6-81b9-49dd-a727-f2f695699e53",
        "colab": {
          "base_uri": "https://localhost:8080/",
          "height": 969
        }
      },
      "source": [
        "print ((xTrain))\n",
        "print ((yTrain))\n",
        "print ((xTest))\n",
        "print ((yTest))"
      ],
      "execution_count": 0,
      "outputs": [
        {
          "output_type": "stream",
          "text": [
            "                     value  Dia_semanal  Semana_anual  ...   Año  Dia  dia_del_año\n",
            "date                                                   ...                        \n",
            "2020-05-09 09:11:56  84.94            5            19  ...  2020    9          130\n",
            "2020-05-09 09:10:34  84.94            5            19  ...  2020    9          130\n",
            "2020-05-09 09:07:52  84.94            5            19  ...  2020    9          130\n",
            "2020-05-09 09:06:30  84.94            5            19  ...  2020    9          130\n",
            "2020-05-09 09:05:08  84.94            5            19  ...  2020    9          130\n",
            "...                    ...          ...           ...  ...   ...  ...          ...\n",
            "2020-05-05 23:59:46  73.09            1            19  ...  2020    5          126\n",
            "2020-05-05 23:58:15  73.09            1            19  ...  2020    5          126\n",
            "2020-05-05 23:56:42  73.09            1            19  ...  2020    5          126\n",
            "2020-05-05 23:55:08  73.09            1            19  ...  2020    5          126\n",
            "2020-05-05 23:53:36  73.09            1            19  ...  2020    5          126\n",
            "\n",
            "[1680 rows x 8 columns]\n",
            "date\n",
            "2020-05-09 09:11:56    84.94\n",
            "2020-05-09 09:10:34    84.94\n",
            "2020-05-09 09:07:52    84.94\n",
            "2020-05-09 09:06:30    84.94\n",
            "2020-05-09 09:05:08    84.94\n",
            "                       ...  \n",
            "2020-05-05 23:59:46    73.09\n",
            "2020-05-05 23:58:15    73.09\n",
            "2020-05-05 23:56:42    73.09\n",
            "2020-05-05 23:55:08    73.09\n",
            "2020-05-05 23:53:36    73.09\n",
            "Name: value, Length: 1680, dtype: float64\n",
            "                     value  Dia_semanal  Semana_anual  ...   Año  Dia  dia_del_año\n",
            "date                                                   ...                        \n",
            "2020-05-04 22:36:05  87.90            0            19  ...  2020    4          125\n",
            "2020-05-04 22:34:33  87.90            0            19  ...  2020    4          125\n",
            "2020-05-04 22:33:01  87.90            0            19  ...  2020    4          125\n",
            "2020-05-04 22:31:29  88.15            0            19  ...  2020    4          125\n",
            "2020-05-04 22:29:57  88.15            0            19  ...  2020    4          125\n",
            "...                    ...          ...           ...  ...   ...  ...          ...\n",
            "2020-05-04 18:52:43  89.14            0            19  ...  2020    4          125\n",
            "2020-05-04 18:52:33  89.14            0            19  ...  2020    4          125\n",
            "2020-05-04 18:52:23  89.14            0            19  ...  2020    4          125\n",
            "2020-05-04 18:52:13  89.14            0            19  ...  2020    4          125\n",
            "2020-05-04 18:52:03  89.14            0            19  ...  2020    4          125\n",
            "\n",
            "[210 rows x 8 columns]\n",
            "date\n",
            "2020-05-04 22:36:05    87.90\n",
            "2020-05-04 22:34:33    87.90\n",
            "2020-05-04 22:33:01    87.90\n",
            "2020-05-04 22:31:29    88.15\n",
            "2020-05-04 22:29:57    88.15\n",
            "                       ...  \n",
            "2020-05-04 18:52:43    89.14\n",
            "2020-05-04 18:52:33    89.14\n",
            "2020-05-04 18:52:23    89.14\n",
            "2020-05-04 18:52:13    89.14\n",
            "2020-05-04 18:52:03    89.14\n",
            "Name: value, Length: 210, dtype: float64\n"
          ],
          "name": "stdout"
        }
      ]
    },
    {
      "cell_type": "markdown",
      "metadata": {
        "id": "dfGKGHvUmRGD",
        "colab_type": "text"
      },
      "source": [
        "#Testing"
      ]
    },
    {
      "cell_type": "code",
      "metadata": {
        "id": "_3prFVE6mQfU",
        "colab_type": "code",
        "colab": {}
      },
      "source": [
        ""
      ],
      "execution_count": 0,
      "outputs": []
    },
    {
      "cell_type": "code",
      "metadata": {
        "id": "D8wB9ZbTsp4h",
        "colab_type": "code",
        "outputId": "a9a488a4-215f-466b-d952-6f0751a8dcdd",
        "colab": {
          "base_uri": "https://localhost:8080/",
          "height": 232
        }
      },
      "source": [
        "\n",
        "timestamp = 1588889538\n",
        "dt_object = datetime.fromtimestamp(timestamp)\n",
        "\n",
        "print(\"dt_object =\", dt_object)\n",
        "print(\"type(dt_object) =\", type(dt_object))"
      ],
      "execution_count": 0,
      "outputs": [
        {
          "output_type": "error",
          "ename": "AttributeError",
          "evalue": "ignored",
          "traceback": [
            "\u001b[0;31m---------------------------------------------------------------------------\u001b[0m",
            "\u001b[0;31mAttributeError\u001b[0m                            Traceback (most recent call last)",
            "\u001b[0;32m<ipython-input-213-ee1dfcce4e32>\u001b[0m in \u001b[0;36m<module>\u001b[0;34m()\u001b[0m\n\u001b[1;32m      1\u001b[0m \u001b[0;34m\u001b[0m\u001b[0m\n\u001b[1;32m      2\u001b[0m \u001b[0mtimestamp\u001b[0m \u001b[0;34m=\u001b[0m \u001b[0;36m1588889538\u001b[0m\u001b[0;34m\u001b[0m\u001b[0;34m\u001b[0m\u001b[0m\n\u001b[0;32m----> 3\u001b[0;31m \u001b[0mdt_object\u001b[0m \u001b[0;34m=\u001b[0m \u001b[0mdatetime\u001b[0m\u001b[0;34m.\u001b[0m\u001b[0mfromtimestamp\u001b[0m\u001b[0;34m(\u001b[0m\u001b[0mtimestamp\u001b[0m\u001b[0;34m)\u001b[0m\u001b[0;34m\u001b[0m\u001b[0;34m\u001b[0m\u001b[0m\n\u001b[0m\u001b[1;32m      4\u001b[0m \u001b[0;34m\u001b[0m\u001b[0m\n\u001b[1;32m      5\u001b[0m \u001b[0mprint\u001b[0m\u001b[0;34m(\u001b[0m\u001b[0;34m\"dt_object =\"\u001b[0m\u001b[0;34m,\u001b[0m \u001b[0mdt_object\u001b[0m\u001b[0;34m)\u001b[0m\u001b[0;34m\u001b[0m\u001b[0;34m\u001b[0m\u001b[0m\n",
            "\u001b[0;31mAttributeError\u001b[0m: module 'datetime' has no attribute 'fromtimestamp'"
          ]
        }
      ]
    },
    {
      "cell_type": "code",
      "metadata": {
        "id": "YWQvsuWHsPEF",
        "colab_type": "code",
        "colab": {}
      },
      "source": [
        "dt_object = datetime.fromtimestamp(dfSoil['timestamp'])"
      ],
      "execution_count": 0,
      "outputs": []
    },
    {
      "cell_type": "code",
      "metadata": {
        "id": "URdRcmfxsaGn",
        "colab_type": "code",
        "colab": {}
      },
      "source": [
        "hello = pd.to_datetime(dfSoil['timestamp']).apply(lambda x: x.date())\n",
        "dfSoil['date'] = pd.to_datetime(dfSoil['timestamp'], unit='s')\n"
      ],
      "execution_count": 0,
      "outputs": []
    },
    {
      "cell_type": "code",
      "metadata": {
        "id": "Sxi9OFr_jJ4C",
        "colab_type": "code",
        "colab": {}
      },
      "source": [
        "dfTemp.hist()"
      ],
      "execution_count": 0,
      "outputs": []
    },
    {
      "cell_type": "code",
      "metadata": {
        "id": "wx0iWO_0s0N6",
        "colab_type": "code",
        "colab": {}
      },
      "source": [
        "dfSoil['Dia'].hist()"
      ],
      "execution_count": 0,
      "outputs": []
    },
    {
      "cell_type": "code",
      "metadata": {
        "id": "KqkAdGsn2-nC",
        "colab_type": "code",
        "colab": {}
      },
      "source": [
        "tsLight"
      ],
      "execution_count": 0,
      "outputs": []
    },
    {
      "cell_type": "code",
      "metadata": {
        "id": "c6o-OELt3AmK",
        "colab_type": "code",
        "colab": {}
      },
      "source": [
        "dfLight"
      ],
      "execution_count": 0,
      "outputs": []
    },
    {
      "cell_type": "code",
      "metadata": {
        "id": "V3AQl6Wu8aC9",
        "colab_type": "code",
        "colab": {}
      },
      "source": [
        "https://industrial.api.ubidots.com/api/v1.6/devices/timestamp/{variable_label}/values/"
      ],
      "execution_count": 0,
      "outputs": []
    },
    {
      "cell_type": "code",
      "metadata": {
        "id": "nUW-d6LeCNzA",
        "colab_type": "code",
        "colab": {}
      },
      "source": [
        ""
      ],
      "execution_count": 0,
      "outputs": []
    }
  ]
}